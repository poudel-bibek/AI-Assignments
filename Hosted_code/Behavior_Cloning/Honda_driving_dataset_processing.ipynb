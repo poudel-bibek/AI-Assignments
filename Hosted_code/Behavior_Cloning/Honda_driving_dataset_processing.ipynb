{
 "cells": [
  {
   "cell_type": "markdown",
   "id": "19b71c39",
   "metadata": {},
   "source": [
    "## Goal:\n",
    "- Sample 20K images from Training set\n",
    "- Sample 2K images from Test set \n",
    "\n",
    "## Problems: \n",
    "1. filenames in train set start from 0 to 109998\n",
    "2. filenames in the test set start from 10 to 109999"
   ]
  },
  {
   "cell_type": "code",
   "execution_count": 1,
   "id": "772c6174",
   "metadata": {},
   "outputs": [],
   "source": [
    "#!pip install pillow"
   ]
  },
  {
   "cell_type": "code",
   "execution_count": 2,
   "id": "5241a94c",
   "metadata": {},
   "outputs": [],
   "source": [
    "import os\n",
    "import numpy as np\n",
    "import pandas as pd\n",
    "from PIL import Image"
   ]
  },
  {
   "cell_type": "code",
   "execution_count": 3,
   "id": "4e0a27a2",
   "metadata": {},
   "outputs": [
    {
     "name": "stdout",
     "output_type": "stream",
     "text": [
      "       0   1   2         3\n",
      "0  0.jpg NaN NaN -0.252324\n",
      "1  1.jpg NaN NaN -0.252324\n",
      "2  2.jpg NaN NaN -0.205843\n",
      "3  3.jpg NaN NaN -0.146082\n",
      "4  4.jpg NaN NaN -0.139442\n",
      "        0   1   2         3\n",
      "0  10.jpg NaN NaN -0.139442\n",
      "1  21.jpg NaN NaN  0.132802\n",
      "2  32.jpg NaN NaN -0.212483\n",
      "3  43.jpg NaN NaN -0.159363\n",
      "4  54.jpg NaN NaN -0.006640\n"
     ]
    }
   ],
   "source": [
    "labels_train = pd.read_csv('./labelsHonda100k_train.csv', header = None)\n",
    "labels_test = pd.read_csv('./labelsHonda100k_val.csv', header = None)\n",
    "\n",
    "print(labels_train.head())\n",
    "print(labels_test.head())"
   ]
  },
  {
   "cell_type": "code",
   "execution_count": 4,
   "id": "dcb10b09",
   "metadata": {},
   "outputs": [
    {
     "name": "stdout",
     "output_type": "stream",
     "text": [
      "       0         3\n",
      "0  0.jpg -0.252324\n",
      "1  1.jpg -0.252324\n",
      "2  2.jpg -0.205843\n",
      "3  3.jpg -0.146082\n",
      "4  4.jpg -0.139442\n",
      "        0         3\n",
      "0  10.jpg -0.139442\n",
      "1  21.jpg  0.132802\n",
      "2  32.jpg -0.212483\n",
      "3  43.jpg -0.159363\n",
      "4  54.jpg -0.006640\n"
     ]
    }
   ],
   "source": [
    "columns = [0,3]\n",
    "data_train = labels_train[columns]\n",
    "data_test = labels_test[columns]\n",
    "\n",
    "print(data_train.head())\n",
    "print(data_test.head())"
   ]
  },
  {
   "cell_type": "code",
   "execution_count": 5,
   "id": "15cad39c",
   "metadata": {},
   "outputs": [
    {
     "name": "stdout",
     "output_type": "stream",
     "text": [
      "[95534  5169 82830 ... 96256 64551 26469]\n",
      "[9565 1283 3070 ... 4470 9616  363]\n"
     ]
    }
   ],
   "source": [
    "#There are some missing image names\n",
    "#Randomly sample 20,000 for train and 2,000 from val\n",
    "\n",
    "train_size = 10000\n",
    "test_size = 1000\n",
    "\n",
    "permutations_train = np.random.randint(0, len(data_train), train_size)\n",
    "permutations_test = np.random.randint(0, len(data_test), train_size)\n",
    "\n",
    "print(f\"{permutations_train}\\n{permutations_test}\")\n",
    "\n",
    "dir_path = './small_data_honda'\n",
    "if not os.path.exists(dir_path):\n",
    "    os.mkdir(dir_path)"
   ]
  },
  {
   "cell_type": "code",
   "execution_count": 6,
   "id": "2e200df9",
   "metadata": {},
   "outputs": [
    {
     "name": "stdout",
     "output_type": "stream",
     "text": [
      "(10000, 2)\n"
     ]
    }
   ],
   "source": [
    "# First get the columns, then based on that get the files\n",
    "#train_images = []\n",
    "train_labels = []\n",
    "\n",
    "train_path = './small_data_honda/train_images'\n",
    "if not os.path.exists(train_path):\n",
    "    os.mkdir(train_path)\n",
    "    \n",
    "\n",
    "for i in range(len(permutations_train)):\n",
    "    #print(i)\n",
    "    name = data_train[0][permutations_train[i]]\n",
    "    img = Image.open(f'./trainHonda100k/{name}')\n",
    "    img.save(f'./small_data_honda/train_images/{i}.jpg')\n",
    "    train_labels.append([f\"{i}.jpg\", data_train[3][permutations_train[i]]])\n",
    "    \n",
    "train_labels = np.array(train_labels)\n",
    "print(train_labels.shape)"
   ]
  },
  {
   "cell_type": "code",
   "execution_count": 7,
   "id": "ab621a95",
   "metadata": {},
   "outputs": [
    {
     "name": "stdout",
     "output_type": "stream",
     "text": [
      "(10000, 2)\n"
     ]
    }
   ],
   "source": [
    "test_images = []\n",
    "test_labels = []\n",
    "\n",
    "test_path = './small_data_honda/test_images'\n",
    "if not os.path.exists(test_path):\n",
    "    os.mkdir(test_path)\n",
    "    \n",
    "for i in permutations_test:\n",
    "    #print(i)\n",
    "    name = data_test[0][permutations_test[i]]\n",
    "    img = Image.open(f'./valHonda100k/{name}')\n",
    "    img.save(f'./small_data_honda/test_images/{i}.jpg')\n",
    "    test_labels.append([f\"{i}.jpg\", data_test[3][permutations_test[i]]])\n",
    "    \n",
    "test_labels = np.array(test_labels)\n",
    "print(test_labels.shape)"
   ]
  },
  {
   "cell_type": "code",
   "execution_count": 9,
   "id": "6f6e972d",
   "metadata": {},
   "outputs": [],
   "source": [
    "np.save(\"./small_data_honda/train_labels.npy\", train_labels)\n",
    "np.save(\"./small_data_honda/test_labels.npy\", test_labels)"
   ]
  },
  {
   "cell_type": "code",
   "execution_count": null,
   "id": "07bc184e",
   "metadata": {},
   "outputs": [],
   "source": []
  }
 ],
 "metadata": {
  "kernelspec": {
   "display_name": "Python 3 (ipykernel)",
   "language": "python",
   "name": "python3"
  },
  "language_info": {
   "codemirror_mode": {
    "name": "ipython",
    "version": 3
   },
   "file_extension": ".py",
   "mimetype": "text/x-python",
   "name": "python",
   "nbconvert_exporter": "python",
   "pygments_lexer": "ipython3",
   "version": "3.9.16"
  }
 },
 "nbformat": 4,
 "nbformat_minor": 5
}
