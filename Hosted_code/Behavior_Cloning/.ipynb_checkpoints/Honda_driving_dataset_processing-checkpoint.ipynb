{
 "cells": [
  {
   "cell_type": "markdown",
   "id": "19b71c39",
   "metadata": {},
   "source": [
    "## Goal:\n",
    "- Sample 10K images from Training set\n",
    "- Sample 1K images from Test set \n",
    "\n",
    "## Problems: \n",
    "1. filenames in train set start from 0 to 109998\n",
    "2. filenames in the test set start from 10 to 109999"
   ]
  },
  {
   "cell_type": "code",
   "execution_count": 1,
   "id": "772c6174",
   "metadata": {},
   "outputs": [],
   "source": [
    "#!pip install pillow"
   ]
  },
  {
   "cell_type": "code",
   "execution_count": 2,
   "id": "5241a94c",
   "metadata": {},
   "outputs": [],
   "source": [
    "import os\n",
    "import numpy as np\n",
    "import pandas as pd\n",
    "from PIL import Image"
   ]
  },
  {
   "cell_type": "code",
   "execution_count": 3,
   "id": "6da794af",
   "metadata": {},
   "outputs": [
    {
     "name": "stdout",
     "output_type": "stream",
     "text": [
      "       0   1   2         3\n",
      "0  0.jpg NaN NaN -0.252324\n",
      "1  1.jpg NaN NaN -0.252324\n",
      "2  2.jpg NaN NaN -0.205843\n",
      "3  3.jpg NaN NaN -0.146082\n",
      "4  4.jpg NaN NaN -0.139442\n",
      "       0         3\n",
      "0  0.jpg -0.252324\n",
      "1  1.jpg -0.252324\n",
      "2  2.jpg -0.205843\n",
      "3  3.jpg -0.146082\n",
      "4  4.jpg -0.139442\n"
     ]
    }
   ],
   "source": [
    "dir_path = './small_data_honda'\n",
    "if not os.path.exists(dir_path):\n",
    "    os.mkdir(dir_path)\n",
    "    \n",
    "labels_train = pd.read_csv('./labelsHonda100k_train.csv', header = None)\n",
    "print(labels_train.head())\n",
    "\n",
    "columns = [0,3]\n",
    "\n",
    "data_train = labels_train[columns]\n",
    "print(data_train.head())"
   ]
  },
  {
   "cell_type": "code",
   "execution_count": null,
   "id": "e8ffa2db",
   "metadata": {},
   "outputs": [
    {
     "name": "stdout",
     "output_type": "stream",
     "text": [
      "[62533 68464 67220 ...  2228 49920 28137]\n"
     ]
    }
   ],
   "source": [
    "#There are some missing image names\n",
    "#Randomly sample 10,000 for train and 1,000 from val\n",
    "\n",
    "train_size = 10000\n",
    "permutations_train = np.random.randint(0, len(data_train), train_size)\n",
    "print(f\"{permutations_train}\")\n",
    "\n",
    "\n",
    "# First get the columns, then based on that get the files\n",
    "#train_images = []\n",
    "train_labels = []\n",
    "\n",
    "train_path = './small_data_honda/train_images'\n",
    "if not os.path.exists(train_path):\n",
    "    os.mkdir(train_path)\n",
    "    \n",
    "\n",
    "for i in range(len(permutations_train)):\n",
    "    #print(i)\n",
    "    name = data_train[0][permutations_train[i]]\n",
    "    img = Image.open(f'./trainHonda100k/{name}')\n",
    "    img.save(f'./small_data_honda/train_images/{i}.jpg')\n",
    "    train_labels.append([f\"{i}.jpg\", data_train[3][permutations_train[i]]])\n",
    "    \n",
    "train_labels = np.array(train_labels)\n",
    "print(train_labels.shape)"
   ]
  },
  {
   "cell_type": "code",
   "execution_count": null,
   "id": "3fb6f99a",
   "metadata": {},
   "outputs": [],
   "source": [
    "labels_test = pd.read_csv('./labelsHonda100k_val.csv', header = None)\n",
    "print(labels_test.head())\n",
    "\n",
    "data_test = labels_test[columns]\n",
    "print(data_test.head())"
   ]
  },
  {
   "cell_type": "code",
   "execution_count": null,
   "id": "0a5b14c2",
   "metadata": {},
   "outputs": [],
   "source": [
    "test_path = './small_data_honda/test_images'\n",
    "if not os.path.exists(test_path):\n",
    "    os.mkdir(test_path)\n",
    "    \n",
    "# Make the test sequential\n",
    "# Problem is that test does not contain file names sequentially\n",
    "permutations_test = data_test.head(1000)\n",
    "permutations_test"
   ]
  },
  {
   "cell_type": "code",
   "execution_count": null,
   "id": "06180f49",
   "metadata": {},
   "outputs": [],
   "source": [
    "#test_images = []\n",
    "test_labels = []\n",
    "\n",
    "for i, name in permutations_test.iterrows():\n",
    "    img = Image.open(f'./valHonda100k/{name[0]}')\n",
    "    img.save(f'./small_data_honda/test_images/{i}.jpg')\n",
    "    #print(i, name[0], name[3])\n",
    "    test_labels.append([f\"{i}.jpg\",name[3]])\n",
    "    \n",
    "test_labels = np.array(test_labels)\n",
    "print(test_labels[0:10],test_labels.shape)"
   ]
  },
  {
   "cell_type": "code",
   "execution_count": null,
   "id": "4e0a27a2",
   "metadata": {},
   "outputs": [],
   "source": [
    "np.save(\"./small_data_honda/train_labels.npy\", train_labels)\n",
    "np.save(\"./small_data_honda/test_labels.npy\", test_labels)"
   ]
  }
 ],
 "metadata": {
  "kernelspec": {
   "display_name": "Python 3 (ipykernel)",
   "language": "python",
   "name": "python3"
  },
  "language_info": {
   "codemirror_mode": {
    "name": "ipython",
    "version": 3
   },
   "file_extension": ".py",
   "mimetype": "text/x-python",
   "name": "python",
   "nbconvert_exporter": "python",
   "pygments_lexer": "ipython3",
   "version": "3.9.16"
  }
 },
 "nbformat": 4,
 "nbformat_minor": 5
}
