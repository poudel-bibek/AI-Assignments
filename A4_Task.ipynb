{
  "nbformat": 4,
  "nbformat_minor": 0,
  "metadata": {
    "colab": {
      "name": "A4 Task.ipynb",
      "provenance": [],
      "collapsed_sections": [],
      "authorship_tag": "ABX9TyNsGBvUprRS2805p3IahD4r",
      "include_colab_link": true
    },
    "kernelspec": {
      "name": "python3",
      "display_name": "Python 3"
    },
    "language_info": {
      "name": "python"
    }
  },
  "cells": [
    {
      "cell_type": "markdown",
      "metadata": {
        "id": "view-in-github",
        "colab_type": "text"
      },
      "source": [
        "<a href=\"https://colab.research.google.com/github/poudel-bibek/Intro-to-AI-Assignments/blob/main/A4_Task.ipynb\" target=\"_parent\"><img src=\"https://colab.research.google.com/assets/colab-badge.svg\" alt=\"Open In Colab\"/></a>"
      ]
    },
    {
      "cell_type": "markdown",
      "source": [
        "![h4](https://user-images.githubusercontent.com/96804013/152433626-1cd8a611-537b-4971-a158-cb7a2c54c4e2.png)\n"
      ],
      "metadata": {
        "id": "J79fyYiXFdiM"
      }
    },
    {
      "cell_type": "markdown",
      "source": [
        "# Assignment 4: Convolutional Neural Networks (Task)\n",
        "---\n",
        "\n",
        "In this assignment, we will use the MNIST dataset\n",
        "([link](https://en.wikipedia.org/wiki/MNIST_database)), which contains images of hand-written digits from 0 to 9. \n",
        "\n",
        "Please try the following exercises. You will need several libraries and built-in functions. Make sure you can compile the following code before proceeding.\n",
        "\n",
        "                    import matplotlib.pyplot as plt \n",
        "                    from tensorflow import keras\n",
        "                    from keras.datasets import mnist # Digits dataset\n",
        "                    from keras.models import Sequential, model_from_json\n",
        "                    from keras.layers import Dense, Dropout, Flatten\n",
        "                    from keras.layers import Conv2D, MaxPooling2D"
      ],
      "metadata": {
        "id": "LPmIYFPHFdfl"
      }
    },
    {
      "cell_type": "markdown",
      "source": [
        "---\n",
        "## Exercise 1\n",
        "\n",
        "- Use `mnist.load_data()` to load the data ([link](https://keras.io/api/datasets/mnist/)). This function will automatically split the dataset into training set and test set. Please store them using the variables `x_train`, `y_train`, `x_test`, and `y_test`. \n",
        "- Check the dimensions of `x_train`, `y_train`, `x_test`, and `y_test`. \n",
        "-  Design and set the variables: epoch to 1, number of classes to 10 (since we have 0 to 9, in total 10 digits), and batch size to 128. \n",
        "- Use the following code to set up `input_shape` for later use.\n",
        "\n",
        "                    ### input image dimensions\n",
        "                    img_rows, img_cols = 28, 28\n",
        "\n",
        "                    ### specify the input_shape\n",
        "                    x_train = x_train.reshape(x_train.shape[0], img_rows, img_cols, 1)\n",
        "                    x_test = x_test.reshape(x_test.shape[0], img_rows, img_cols, 1)\n",
        "                    input_shape = (img_rows, img_cols, 1)\n",
        "                    print(input_shape)"
      ],
      "metadata": {
        "id": "0_fCVEOSFddQ"
      }
    },
    {
      "cell_type": "markdown",
      "source": [
        "---\n",
        "## Exercise 2\n",
        "- Use the following code to visualize a sample of the digits from the training set.\n",
        "\n",
        "                    fig, ax = plt.subplots(4,4,figsize = (10,11), dpi = 80)\n",
        "                    for i, ax in enumerate(fig.axes):\n",
        "                      ax.imshow(np.squeeze(x_train[i]), cmap='gray_r')\n",
        "                      ax.set_title(f\"label = {y_train[i]}\")\n",
        "<p align=\"center\">\n",
        "  <img src=\"https://user-images.githubusercontent.com/96804013/152453628-73ee57dd-dbf3-4846-92de-2eb93f750d49.jpg\")\n",
        "\"/>\n",
        "\n",
        "</p>\n",
        "\n",
        "<p align=\"center\">\n",
        "  <em>Figure 1: Visual inspection of the MNIST digits dataset</em>\n",
        "</p>\n",
        "\n",
        "\n",
        "\n",
        "- Normalize `x_train` and `x_test` (i.e., the pixel values) to the range [0,1].\n",
        "- Convert `y_train` and `y_test` to binary matrices. You may find the built-in function `keras.utils.to_categorical` useful."
      ],
      "metadata": {
        "id": "GpzRFR33Fda6"
      }
    },
    {
      "cell_type": "markdown",
      "source": [
        "---\n",
        "## Exercise 3\n",
        "\n",
        "- Build a CNN with the following architecture.\n",
        "\n",
        "  - 1st layer: convolutional layer with 32 filters, kernel size 3 by 3, activation function ReLU.\n",
        "  - 2nd layer: convolutional layer with 64 filters, kernel size 3 by 3, activation function ReLU.\n",
        "  - 3rd layer: pooling layer with max pooling and pooling size 2 by 2.\n",
        "  - Adding dropout with the ratio 0.25.\n",
        "  - 4th layer: flatten layer.\n",
        "  - 5th layer: dense layer with 128 nodes and activation function ReLU.\n",
        "  - Adding dropout with the ratio 0.25.\n",
        "  - 6th layer (final layer): dense layer with the number of classes and activation function Softmax.\n",
        "\n",
        "- Use `model.summary()` to check the built CNN.\n",
        "\n",
        "- References: Conv2D ([link](https://keras.io/api/layers/convolution_layers/convolution2d/)), Dense ([link](https://keras.io/api/layers/core_layers/dense/))\n",
        "\n",
        "---\n",
        "<p align=\"center\">\n",
        "  <img src=\"https://user-images.githubusercontent.com/96804013/152902002-af97eedd-5955-4fb8-a6b3-9987d75621a8.gif\")\n",
        "\"/>\n",
        "\n",
        "</p>\n",
        "\n",
        "<p align=\"center\">\n",
        "  <em>Figure 2: The convolution operation</em>\n",
        "</p>\n",
        "\n"
      ],
      "metadata": {
        "id": "Cdl6cdmbFdYl"
      }
    },
    {
      "cell_type": "markdown",
      "source": [
        "---\n",
        "## Exercise 4\n",
        "\n",
        "Once you have constructed the model, conduct the following tasks.\n",
        "\n",
        "- Compile the model by setting\n",
        "  - `loss` to `keras.losses.categorical_crossentropy` \n",
        "  - `optimizer` to `keras.optimizers.Adadelta()` \n",
        "  - `metrices` to `[`'`accuracy`'`]`\n",
        "\n",
        "- Train the model and report the results. See docs ([link](https://keras.io/api/models/model_training_apis/)) for references on `compile` and `fit` methods."
      ],
      "metadata": {
        "id": "TqR84l_vFdWC"
      }
    },
    {
      "cell_type": "markdown",
      "source": [
        "---\n",
        "## Exercise 5\n",
        "\n",
        "- Save the trained model.\n",
        "- Load the trained model and test it using the test set again.\n",
        "- Reference ([link](https://www.tensorflow.org/guide/keras/save_and_serialize))"
      ],
      "metadata": {
        "id": "TtfkzaTHFuT6"
      }
    },
    {
      "cell_type": "markdown",
      "source": [
        "---\n",
        "\n",
        "---\n",
        "<p align=\"center\">\n",
        "  <img src=\"https://user-images.githubusercontent.com/96804013/152447666-f6e0b0c7-5630-4acd-96cb-293d66755b77.png\")\n",
        "\"/>\n",
        "\n",
        "</p>\n",
        "\n",
        "<p align=\"center\">\n",
        "  <em>Figure 3: Journey of a single image through the model</em>\n",
        "</p>\n"
      ],
      "metadata": {
        "id": "GQ7h6IvRFxoe"
      }
    },
    {
      "cell_type": "code",
      "source": [
        ""
      ],
      "metadata": {
        "id": "NK98IPE2A_Pu"
      },
      "execution_count": null,
      "outputs": []
    }
  ]
}