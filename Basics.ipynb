{
  "nbformat": 4,
  "nbformat_minor": 0,
  "metadata": {
    "colab": {
      "name": "Basics.ipynb",
      "provenance": [],
      "collapsed_sections": [],
      "authorship_tag": "ABX9TyNg4YVEPns57YxcyAKyGJdZ",
      "include_colab_link": true
    },
    "kernelspec": {
      "name": "python3",
      "display_name": "Python 3"
    },
    "language_info": {
      "name": "python"
    }
  },
  "cells": [
    {
      "cell_type": "markdown",
      "metadata": {
        "id": "view-in-github",
        "colab_type": "text"
      },
      "source": [
        "<a href=\"https://colab.research.google.com/github/poudel-bibek/Intro-to-AI-Assignments/blob/main/Basics.ipynb\" target=\"_parent\"><img src=\"https://colab.research.google.com/assets/colab-badge.svg\" alt=\"Open In Colab\"/></a>"
      ]
    },
    {
      "cell_type": "markdown",
      "source": [
        "## This is a text cell\n",
        "  - First things first\n",
        "  - Second things second"
      ],
      "metadata": {
        "id": "O15TbNUaIWKx"
      }
    },
    {
      "cell_type": "code",
      "source": [
        "#  First\n",
        "print(\"Hello World\")"
      ],
      "metadata": {
        "colab": {
          "base_uri": "https://localhost:8080/"
        },
        "id": "NRNZtI7Irhsu",
        "outputId": "33f0a99f-bee6-4dcd-b99f-cd31c466cef4"
      },
      "execution_count": 1,
      "outputs": [
        {
          "output_type": "stream",
          "name": "stdout",
          "text": [
            "Hello World\n"
          ]
        }
      ]
    },
    {
      "cell_type": "code",
      "source": [
        "import numpy as np"
      ],
      "metadata": {
        "id": "dFcuzM2wrIHR"
      },
      "execution_count": 2,
      "outputs": []
    },
    {
      "cell_type": "code",
      "source": [
        "# create lists\n",
        "a = [ 0,1,2,3,4,5] # 6 elements\n",
        "\n",
        "b = [4,5,6,7,8,9] # 6 elements\n",
        "\n",
        "print(f\"{a}\\n{b}\") # Using python f strings to print"
      ],
      "metadata": {
        "id": "DLEEYOclIHER",
        "colab": {
          "base_uri": "https://localhost:8080/"
        },
        "outputId": "49ea9c8b-826c-4eac-ceea-106536849c85"
      },
      "execution_count": 3,
      "outputs": [
        {
          "output_type": "stream",
          "name": "stdout",
          "text": [
            "[0, 1, 2, 3, 4, 5]\n",
            "[4, 5, 6, 7, 8, 9]\n"
          ]
        }
      ]
    },
    {
      "cell_type": "code",
      "source": [
        "# Create numpy array from list\n",
        "c = np.array(a)\n",
        "\n",
        "# Now, Lets see what the of 'a' and and 'c' are \n",
        "print(type(c), type(a))"
      ],
      "metadata": {
        "colab": {
          "base_uri": "https://localhost:8080/"
        },
        "id": "rimOFh0yIPo0",
        "outputId": "d5c9669b-e9e9-49f3-9a98-85055ec79f19"
      },
      "execution_count": 4,
      "outputs": [
        {
          "output_type": "stream",
          "name": "stdout",
          "text": [
            "<class 'numpy.ndarray'> <class 'list'>\n"
          ]
        }
      ]
    },
    {
      "cell_type": "code",
      "source": [
        "# Since 'c' is a numpy array, we can use .shape to see its dimensions\n",
        "print(c.shape)"
      ],
      "metadata": {
        "colab": {
          "base_uri": "https://localhost:8080/"
        },
        "id": "IRR99gocKI49",
        "outputId": "f7b846f4-faf9-4d7c-c6d8-049e6bfec169"
      },
      "execution_count": 5,
      "outputs": [
        {
          "output_type": "stream",
          "name": "stdout",
          "text": [
            "(6,)\n"
          ]
        }
      ]
    },
    {
      "cell_type": "code",
      "source": [
        "# Lets create a few more arrays and do basic operations on them using NumPy\n",
        "\n",
        "i = np.array([0,1,2])\n",
        "j = np.array([5,6,7])\n",
        "\n",
        "# add\n",
        "x = i + j\n",
        "print(i.shape, j.shape)\n",
        "print(f\"\\nx = {x}\\n\")\n",
        "print(f\"{x.shape}\\n\")\n",
        "\n",
        "# Dot product of 2 matrices\n",
        "y = np.matmul(i , j) # same as print(np.dot(i,j))\n",
        "print(f\"y = {y}\\n\")\n",
        "\n",
        "# Multiply a vector by a scalar\n",
        "p = 5*j\n",
        "print(f\"5x the matrix j = {p}\\n\")\n",
        "\n",
        "# statistical properties of arrays\n",
        "\n",
        "# max in an array \n",
        "z = np.max(i)\n",
        "print(f\"max = {z}\\n\")\n",
        "\n",
        "# min in an array \n",
        "x_1 = np.min(i)\n",
        "print(f\"min = {x_1}\\n\")\n",
        "\n",
        "# mean, std of array\n",
        "print(np.mean(i), np.std(i))"
      ],
      "metadata": {
        "colab": {
          "base_uri": "https://localhost:8080/"
        },
        "id": "pjW0DaIUKRaj",
        "outputId": "535d279a-aec4-4427-922c-efde5cfd208a"
      },
      "execution_count": 6,
      "outputs": [
        {
          "output_type": "stream",
          "name": "stdout",
          "text": [
            "(3,) (3,)\n",
            "\n",
            "x = [5 7 9]\n",
            "\n",
            "(3,)\n",
            "\n",
            "y = 20\n",
            "\n",
            "5x the matrix j = [25 30 35]\n",
            "\n",
            "max = 2\n",
            "\n",
            "min = 0\n",
            "\n",
            "1.0 0.816496580927726\n"
          ]
        }
      ]
    },
    {
      "cell_type": "code",
      "source": [
        "# Square all elements of array\n",
        "f = c**2\n",
        "f"
      ],
      "metadata": {
        "colab": {
          "base_uri": "https://localhost:8080/"
        },
        "id": "nBzkAEImJao3",
        "outputId": "e0d3416a-6a90-4e23-8984-dd4cec49b553"
      },
      "execution_count": 7,
      "outputs": [
        {
          "output_type": "execute_result",
          "data": {
            "text/plain": [
              "array([ 0,  1,  4,  9, 16, 25])"
            ]
          },
          "metadata": {},
          "execution_count": 7
        }
      ]
    },
    {
      "cell_type": "code",
      "source": [
        "np.shape(c)"
      ],
      "metadata": {
        "colab": {
          "base_uri": "https://localhost:8080/"
        },
        "id": "U9k8vcvsJc_K",
        "outputId": "a776a2e3-fb29-46ba-d9da-99807f0d6210"
      },
      "execution_count": 8,
      "outputs": [
        {
          "output_type": "execute_result",
          "data": {
            "text/plain": [
              "(6,)"
            ]
          },
          "metadata": {},
          "execution_count": 8
        }
      ]
    },
    {
      "cell_type": "code",
      "source": [
        "# Change the shape of an array\n",
        "g = c.reshape(3,2)\n",
        "print(c.shape, g.shape)"
      ],
      "metadata": {
        "id": "BTv6c5__JlPy",
        "colab": {
          "base_uri": "https://localhost:8080/"
        },
        "outputId": "d59b6cce-22d3-4e70-f714-33ba43ef264b"
      },
      "execution_count": 9,
      "outputs": [
        {
          "output_type": "stream",
          "name": "stdout",
          "text": [
            "(6,) (3, 2)\n"
          ]
        }
      ]
    }
  ]
}