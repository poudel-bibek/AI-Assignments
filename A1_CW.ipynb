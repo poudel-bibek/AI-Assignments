{
  "nbformat": 4,
  "nbformat_minor": 0,
  "metadata": {
    "colab": {
      "name": "A1 CW.ipynb",
      "provenance": [],
      "collapsed_sections": [],
      "authorship_tag": "ABX9TyNqhNUuRxVKjBHEHZNN+JTb",
      "include_colab_link": true
    },
    "kernelspec": {
      "name": "python3",
      "display_name": "Python 3"
    },
    "language_info": {
      "name": "python"
    }
  },
  "cells": [
    {
      "cell_type": "markdown",
      "metadata": {
        "id": "view-in-github",
        "colab_type": "text"
      },
      "source": [
        "<a href=\"https://colab.research.google.com/github/poudel-bibek/Intro-to-AI-Assignments/blob/main/A1_CW.ipynb\" target=\"_parent\"><img src=\"https://colab.research.google.com/assets/colab-badge.svg\" alt=\"Open In Colab\"/></a>"
      ]
    },
    {
      "cell_type": "markdown",
      "source": [
        "![a1_header](https://user-images.githubusercontent.com/96804013/151661723-accc2888-e8de-43b2-b78a-c4788bdca61e.png)"
      ],
      "metadata": {
        "id": "BAp0W0WDu6Oh"
      }
    },
    {
      "cell_type": "code",
      "source": [
        ""
      ],
      "metadata": {
        "id": "pHHA8hvJ29It"
      },
      "execution_count": null,
      "outputs": []
    },
    {
      "cell_type": "markdown",
      "source": [
        "$$J(\\theta,\\theta_0) = \\frac{1}{n}\\sum_{i=1}^{n}\\left(\\left(\\theta \\cdot x^{(i)}+\\theta_0\\right) - y^{(i)}\\right)^2 + \\alpha\\left(\\theta^2 + \\theta_0^2\\right)$$"
      ],
      "metadata": {
        "id": "Il3Y8-tn2RlR"
      }
    },
    {
      "cell_type": "code",
      "source": [
        ""
      ],
      "metadata": {
        "id": "eovbUT9Svm9J"
      },
      "execution_count": null,
      "outputs": []
    }
  ]
}