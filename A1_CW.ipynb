{
  "nbformat": 4,
  "nbformat_minor": 0,
  "metadata": {
    "colab": {
      "name": "A1 CW.ipynb",
      "provenance": [],
      "authorship_tag": "ABX9TyOrvaMqPqrSfnNgkQxA3Gha",
      "include_colab_link": true
    },
    "kernelspec": {
      "name": "python3",
      "display_name": "Python 3"
    },
    "language_info": {
      "name": "python"
    }
  },
  "cells": [
    {
      "cell_type": "markdown",
      "metadata": {
        "id": "view-in-github",
        "colab_type": "text"
      },
      "source": [
        "<a href=\"https://colab.research.google.com/github/poudel-bibek/Intro-to-AI-Assignments/blob/main/A1_CW.ipynb\" target=\"_parent\"><img src=\"https://colab.research.google.com/assets/colab-badge.svg\" alt=\"Open In Colab\"/></a>"
      ]
    },
    {
      "cell_type": "markdown",
      "source": [
        "![a1_header](https://user-images.githubusercontent.com/96804013/151660480-0a8afa6e-b635-45fb-99ff-a3bda273321a.png)"
      ],
      "metadata": {
        "id": "BAp0W0WDu6Oh"
      }
    },
    {
      "cell_type": "code",
      "source": [
        ""
      ],
      "metadata": {
        "id": "eovbUT9Svm9J"
      },
      "execution_count": null,
      "outputs": []
    }
  ]
}