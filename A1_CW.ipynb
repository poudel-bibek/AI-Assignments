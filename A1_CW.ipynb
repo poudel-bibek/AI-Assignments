{
  "nbformat": 4,
  "nbformat_minor": 0,
  "metadata": {
    "colab": {
      "name": "A1 CW.ipynb",
      "provenance": [],
      "collapsed_sections": [],
      "authorship_tag": "ABX9TyNqSvVlQkWvZ1nwd72BtOOc",
      "include_colab_link": true
    },
    "kernelspec": {
      "name": "python3",
      "display_name": "Python 3"
    },
    "language_info": {
      "name": "python"
    }
  },
  "cells": [
    {
      "cell_type": "markdown",
      "metadata": {
        "id": "view-in-github",
        "colab_type": "text"
      },
      "source": [
        "<a href=\"https://colab.research.google.com/github/poudel-bibek/Intro-to-AI-Assignments/blob/main/A1_CW.ipynb\" target=\"_parent\"><img src=\"https://colab.research.google.com/assets/colab-badge.svg\" alt=\"Open In Colab\"/></a>"
      ]
    },
    {
      "cell_type": "markdown",
      "source": [
        "![a1_header](https://user-images.githubusercontent.com/96804013/151661723-accc2888-e8de-43b2-b78a-c4788bdca61e.png)"
      ],
      "metadata": {
        "id": "z3EJSRZwx34o"
      }
    },
    {
      "cell_type": "markdown",
      "source": [
        "For this assignment, you will need packages [matplotlib](https://matplotlib.org/) and [scikit-learn](https://scikit-learn.org/stable/). Complete the following steps:\n",
        "\n",
        "\n",
        "- Load the diabetdiaes dataset. Set `return_X_y` to `True`, and store the features in variable `diabetes_X` and labels in variable `diabetes_y`.\n",
        "\n",
        "\n",
        "- Check the dimensions of `diabetes_X` and `diabetes_y`."
      ],
      "metadata": {
        "id": "rtYaqij_6s2W"
      }
    },
    {
      "cell_type": "code",
      "source": [
        "# import matplotlib and sklearn\n",
        "import sklearn\n",
        "import matplotlib.pyplot as plt"
      ],
      "metadata": {
        "id": "od2wIUyI7QTW"
      },
      "execution_count": null,
      "outputs": []
    },
    {
      "cell_type": "code",
      "source": [
        "# load diabetes dataset and print dimensions\n",
        "from sklearn import datasets\n",
        "diabetes_X, diabetes_y = datasets.load_diabetes(return_X_y = True)\n",
        "\n",
        "print(diabetes_X.shape, diabetes_y.shape)"
      ],
      "metadata": {
        "colab": {
          "base_uri": "https://localhost:8080/"
        },
        "id": "xN4XynNo7UrB",
        "outputId": "6254658f-04d2-432a-982c-c043e2c752f6"
      },
      "execution_count": null,
      "outputs": [
        {
          "output_type": "stream",
          "name": "stdout",
          "text": [
            "(442, 10) (442,)\n"
          ]
        }
      ]
    },
    {
      "cell_type": "markdown",
      "source": [
        "- Visual inspection of a dataset is usually the first thing people do after loading a dataset and also a crucial step prior to the actual learning process. However, here the feature space is high-dimensional which is difficult to plot. Let’s reduce it to 2-dimensional using the following code."
      ],
      "metadata": {
        "id": "bE-Tbf5-8iFY"
      }
    },
    {
      "cell_type": "code",
      "source": [
        "from sklearn import decomposition\n",
        "\n",
        "# Decompose high dimensional data to 2 dimensions\n",
        "pca = decomposition.PCA(n_components=2)\n",
        "pca.fit(diabetes_X)\n",
        "X_2d = pca.transform(diabetes_X)\n",
        "\n",
        "print(X_2d.shape)"
      ],
      "metadata": {
        "colab": {
          "base_uri": "https://localhost:8080/"
        },
        "id": "BUOHKzna6-fq",
        "outputId": "e2eb9e58-1f27-4077-8ea8-7c2940e7faa3"
      },
      "execution_count": null,
      "outputs": [
        {
          "output_type": "stream",
          "name": "stdout",
          "text": [
            "(442, 2)\n"
          ]
        }
      ]
    },
    {
      "cell_type": "markdown",
      "source": [
        "Now, use matplotlib to plot X_2d and produce Figure 1. Remember to provide axis labels also as in the figure.\n",
        "\n",
        "<p align=\"center\">\n",
        "  <img src=\"https://user-images.githubusercontent.com/96804013/151662229-62615e47-38f6-4024-9396-47e97b11211d.png\"/>\n",
        "\n",
        "</p>\n",
        "\n",
        "<p align=\"center\">\n",
        "  <em>Figure 1: Visual inspection of the dataset</em>\n",
        "</p>\n",
        "\n",
        "\n"
      ],
      "metadata": {
        "id": "_12vTMCo84BR"
      }
    },
    {
      "cell_type": "code",
      "source": [
        ""
      ],
      "metadata": {
        "id": "Lx2hP1QI7CWj"
      },
      "execution_count": null,
      "outputs": []
    }
  ]
}