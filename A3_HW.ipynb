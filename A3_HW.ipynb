{
  "nbformat": 4,
  "nbformat_minor": 0,
  "metadata": {
    "colab": {
      "name": "A3 HW.ipynb",
      "provenance": [],
      "authorship_tag": "ABX9TyPAi9oyUZ4z2kkryyoqJ4hf",
      "include_colab_link": true
    },
    "kernelspec": {
      "name": "python3",
      "display_name": "Python 3"
    },
    "language_info": {
      "name": "python"
    }
  },
  "cells": [
    {
      "cell_type": "markdown",
      "metadata": {
        "id": "view-in-github",
        "colab_type": "text"
      },
      "source": [
        "<a href=\"https://colab.research.google.com/github/poudel-bibek/Intro-to-AI-Assignments/blob/main/A3_HW.ipynb\" target=\"_parent\"><img src=\"https://colab.research.google.com/assets/colab-badge.svg\" alt=\"Open In Colab\"/></a>"
      ]
    },
    {
      "cell_type": "markdown",
      "source": [
        "![a3_header](https://user-images.githubusercontent.com/96804013/151660627-b1df548f-7092-49d6-bb8c-c58eb72ec5a6.png)\n"
      ],
      "metadata": {
        "id": "rteREVUJw-rn"
      }
    },
    {
      "cell_type": "code",
      "source": [
        ""
      ],
      "metadata": {
        "id": "zWGajoGpxBux"
      },
      "execution_count": null,
      "outputs": []
    }
  ]
}