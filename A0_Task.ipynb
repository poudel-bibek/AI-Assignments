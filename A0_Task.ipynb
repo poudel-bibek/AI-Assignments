{
  "nbformat": 4,
  "nbformat_minor": 0,
  "metadata": {
    "colab": {
      "name": "A0 Task.ipynb",
      "provenance": [],
      "collapsed_sections": [],
      "authorship_tag": "ABX9TyOFrjBlTI4Tlpp6oFL0vH1K",
      "include_colab_link": true
    },
    "kernelspec": {
      "name": "python3",
      "display_name": "Python 3"
    },
    "language_info": {
      "name": "python"
    }
  },
  "cells": [
    {
      "cell_type": "markdown",
      "metadata": {
        "id": "view-in-github",
        "colab_type": "text"
      },
      "source": [
        "<a href=\"https://colab.research.google.com/github/poudel-bibek/Intro-to-AI-Assignments/blob/main/A0_Task.ipynb\" target=\"_parent\"><img src=\"https://colab.research.google.com/assets/colab-badge.svg\" alt=\"Open In Colab\"/></a>"
      ]
    },
    {
      "cell_type": "markdown",
      "source": [
        "![a0_header](https://user-images.githubusercontent.com/96804013/151716706-ab382983-764f-4dee-a4cc-a1e8b8daa2ce.png)\n"
      ],
      "metadata": {
        "id": "SKsSEzEGsVEz"
      }
    },
    {
      "cell_type": "markdown",
      "source": [
        "##Task:\n",
        "\n",
        "Perform data exploration of the [Wine dataset](https://scikit-learn.org/stable/modules/generated/sklearn.datasets.load_wine.html#sklearn.datasets.load_wine) provided in [skLearn](https://scikit-learn.org/stable/index.html).\n",
        "\n",
        "1. Explore the dataset\n",
        "  - What is the number of features?\n",
        "  - What are the (min, max and mean) values for each feature?\n",
        "  - What is the number of targets?\n",
        "\n",
        "Use [Matplotlib](https://matplotlib.org/) for the following:\n",
        "\n",
        "2.  Plot the distribution of features in the dataset\n",
        "\n",
        "3.  Plot the distribution of classes in the dataset"
      ],
      "metadata": {
        "id": "HCDT0s3hsage"
      }
    },
    {
      "cell_type": "code",
      "source": [
        ""
      ],
      "metadata": {
        "id": "gwP3fI3mx1kU"
      },
      "execution_count": null,
      "outputs": []
    }
  ]
}