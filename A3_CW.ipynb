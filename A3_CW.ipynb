{
  "nbformat": 4,
  "nbformat_minor": 0,
  "metadata": {
    "colab": {
      "name": "A3 CW.ipynb",
      "provenance": [],
      "authorship_tag": "ABX9TyPtWzcEFvlHw3QQf8B7/Sq4",
      "include_colab_link": true
    },
    "kernelspec": {
      "name": "python3",
      "display_name": "Python 3"
    },
    "language_info": {
      "name": "python"
    }
  },
  "cells": [
    {
      "cell_type": "markdown",
      "metadata": {
        "id": "view-in-github",
        "colab_type": "text"
      },
      "source": [
        "<a href=\"https://colab.research.google.com/github/poudel-bibek/Intro-to-AI-Assignments/blob/main/A3_CW.ipynb\" target=\"_parent\"><img src=\"https://colab.research.google.com/assets/colab-badge.svg\" alt=\"Open In Colab\"/></a>"
      ]
    },
    {
      "cell_type": "markdown",
      "source": [
        "![a3_header](https://user-images.githubusercontent.com/96804013/151660627-b1df548f-7092-49d6-bb8c-c58eb72ec5a6.png)"
      ],
      "metadata": {
        "id": "fnLUmEdewvvX"
      }
    },
    {
      "cell_type": "code",
      "source": [
        ""
      ],
      "metadata": {
        "id": "zJCYjFDRw1C9"
      },
      "execution_count": null,
      "outputs": []
    }
  ]
}