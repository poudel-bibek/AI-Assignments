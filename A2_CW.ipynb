{
  "nbformat": 4,
  "nbformat_minor": 0,
  "metadata": {
    "colab": {
      "name": "A2 CW.ipynb",
      "provenance": [],
      "authorship_tag": "ABX9TyPyOf8lP3F8KU6mfuqFkl3L",
      "include_colab_link": true
    },
    "kernelspec": {
      "name": "python3",
      "display_name": "Python 3"
    },
    "language_info": {
      "name": "python"
    }
  },
  "cells": [
    {
      "cell_type": "markdown",
      "metadata": {
        "id": "view-in-github",
        "colab_type": "text"
      },
      "source": [
        "<a href=\"https://colab.research.google.com/github/poudel-bibek/Intro-to-AI-Assignments/blob/main/A2_CW.ipynb\" target=\"_parent\"><img src=\"https://colab.research.google.com/assets/colab-badge.svg\" alt=\"Open In Colab\"/></a>"
      ]
    },
    {
      "cell_type": "markdown",
      "source": [
        "\n",
        "![a2_header](https://user-images.githubusercontent.com/96804013/151660511-6b7b4bf5-06c5-4aa6-88e8-6703a7a10124.png)\n"
      ],
      "metadata": {
        "id": "26GssPZYv4-a"
      }
    },
    {
      "cell_type": "code",
      "source": [
        ""
      ],
      "metadata": {
        "id": "GKOlyFUgv6Wi"
      },
      "execution_count": null,
      "outputs": []
    }
  ]
}