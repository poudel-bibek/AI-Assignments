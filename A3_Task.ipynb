{
  "nbformat": 4,
  "nbformat_minor": 0,
  "metadata": {
    "colab": {
      "name": "A3 Task.ipynb",
      "provenance": [],
      "collapsed_sections": [],
      "authorship_tag": "ABX9TyPcIyYN66tMbuYrNZ+jNEND",
      "include_colab_link": true
    },
    "kernelspec": {
      "name": "python3",
      "display_name": "Python 3"
    },
    "language_info": {
      "name": "python"
    }
  },
  "cells": [
    {
      "cell_type": "markdown",
      "metadata": {
        "id": "view-in-github",
        "colab_type": "text"
      },
      "source": [
        "<a href=\"https://colab.research.google.com/github/poudel-bibek/Intro-to-AI-Assignments/blob/main/A3_Task.ipynb\" target=\"_parent\"><img src=\"https://colab.research.google.com/assets/colab-badge.svg\" alt=\"Open In Colab\"/></a>"
      ]
    },
    {
      "cell_type": "markdown",
      "source": [
        "![h_3](https://user-images.githubusercontent.com/96804013/151669239-0f1b2e47-ae7b-411c-8b5f-ed292a4086f3.png)"
      ],
      "metadata": {
        "id": "ta0ElQsdtI2S"
      }
    },
    {
      "cell_type": "markdown",
      "source": [
        "# Task\n",
        "----------\n",
        "\n",
        "In this assignment, we will generate non-linear data in two classes and evaluate the performances of different classifiers. You will need the following packages:\n",
        "\n",
        "\n",
        "                    from sklearn.datasets import make_regression, make_circles\n",
        "                    from matplotlib import pyplot as plt\n",
        "                    from sklearn.model_selection import train_test_split\n",
        "                    from sklearn.svm import SVC\n",
        "                    import numpy as np\n",
        "\n",
        "Please try the following exercises:\n",
        "\n",
        "\n",
        "- Generate circular data with positive examples and negative examples using `make_circles`.\n",
        "- Visually inspect the generated data.\n",
        "- Split the data into 80% for training and 20% for testing.\n",
        "- Use `SVC` to create three classifiers using linear model, non-linear polynomial model, and RBF kernel, respectively.\n",
        "- Train these classifiers using the training set.\n",
        "- Test the trained classifiers by comparing their performances. What do you find?"
      ],
      "metadata": {
        "id": "m5GL-Ke2y8bf"
      }
    },
    {
      "cell_type": "code",
      "execution_count": null,
      "metadata": {
        "id": "GJcIt61dtB6Q"
      },
      "outputs": [],
      "source": [
        ""
      ]
    }
  ]
}