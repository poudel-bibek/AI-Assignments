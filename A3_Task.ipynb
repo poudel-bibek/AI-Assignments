{
  "nbformat": 4,
  "nbformat_minor": 0,
  "metadata": {
    "colab": {
      "name": "A3 Task.ipynb",
      "provenance": [],
      "authorship_tag": "ABX9TyONv7vHvwvE51u1lMOgXnWw",
      "include_colab_link": true
    },
    "kernelspec": {
      "name": "python3",
      "display_name": "Python 3"
    },
    "language_info": {
      "name": "python"
    }
  },
  "cells": [
    {
      "cell_type": "markdown",
      "metadata": {
        "id": "view-in-github",
        "colab_type": "text"
      },
      "source": [
        "<a href=\"https://colab.research.google.com/github/poudel-bibek/Intro-to-AI-Assignments/blob/main/A3_Task.ipynb\" target=\"_parent\"><img src=\"https://colab.research.google.com/assets/colab-badge.svg\" alt=\"Open In Colab\"/></a>"
      ]
    },
    {
      "cell_type": "markdown",
      "source": [
        "![h_3](https://user-images.githubusercontent.com/96804013/151669239-0f1b2e47-ae7b-411c-8b5f-ed292a4086f3.png)"
      ],
      "metadata": {
        "id": "ta0ElQsdtI2S"
      }
    },
    {
      "cell_type": "code",
      "execution_count": null,
      "metadata": {
        "id": "GJcIt61dtB6Q"
      },
      "outputs": [],
      "source": [
        ""
      ]
    }
  ]
}